{
 "cells": [
  {
   "cell_type": "code",
   "execution_count": 18,
   "id": "16b4d38f-09d2-4bd2-873a-97091d7ad4d4",
   "metadata": {},
   "outputs": [],
   "source": [
    "import os\n",
    "from pathlib import Path\n",
    "\n",
    "from google.auth.transport.requests import Request\n",
    "from google.oauth2.credentials import Credentials\n",
    "from google_auth_oauthlib.flow import InstalledAppFlow\n",
    "from googleapiclient.discovery import build\n",
    "from email.mime.text import MIMEText\n",
    "import base64"
   ]
  },
  {
   "cell_type": "code",
   "execution_count": 2,
   "id": "430cd27f-b09d-48e1-ba5c-2470aa350707",
   "metadata": {},
   "outputs": [],
   "source": [
    "SCOPES = [\"https://www.googleapis.com/auth/gmail.compose\"]"
   ]
  },
  {
   "cell_type": "code",
   "execution_count": 3,
   "id": "f2f9b2ec-a53f-4116-bfee-e130527865eb",
   "metadata": {},
   "outputs": [],
   "source": [
    "creds_file = \"/Users/avilay/OneDrive/software_keys/gcp_newsletterapp_client_secret.json\""
   ]
  },
  {
   "cell_type": "code",
   "execution_count": 4,
   "id": "a4f4acd1-f295-4af0-b34e-2c6207140b02",
   "metadata": {},
   "outputs": [],
   "source": [
    "token_file = \"/Users/avilay/temp/gmail_api_access_token.json\""
   ]
  },
  {
   "cell_type": "code",
   "execution_count": 5,
   "id": "9fd38e4b-63ec-4c1d-a015-e790e0e6951f",
   "metadata": {},
   "outputs": [],
   "source": [
    "flow = InstalledAppFlow.from_client_secrets_file(creds_file, SCOPES)"
   ]
  },
  {
   "cell_type": "code",
   "execution_count": 6,
   "id": "79aca6c4-385e-4984-ac74-e40a947e5a41",
   "metadata": {},
   "outputs": [
    {
     "name": "stdout",
     "output_type": "stream",
     "text": [
      "Please visit this URL to authorize this application: https://accounts.google.com/o/oauth2/auth?response_type=code&client_id=1008108615513-bburom4o0ep61j9sar0osmo29be072an.apps.googleusercontent.com&redirect_uri=http%3A%2F%2Flocalhost%3A62566%2F&scope=https%3A%2F%2Fwww.googleapis.com%2Fauth%2Fgmail.compose&state=EBwh8Nbw6L1rRCRwpEMrm7pikHlrLc&access_type=offline\n"
     ]
    }
   ],
   "source": [
    "creds = flow.run_local_server(port=0)"
   ]
  },
  {
   "cell_type": "code",
   "execution_count": 7,
   "id": "72bfdc11-72cd-460c-aece-131a92748278",
   "metadata": {},
   "outputs": [],
   "source": [
    "with open(token_file, \"w\") as token:\n",
    "    token.write(creds.to_json())"
   ]
  },
  {
   "cell_type": "code",
   "execution_count": 8,
   "id": "a90b8072-150f-45a0-9590-5459d7cf67f0",
   "metadata": {},
   "outputs": [
    {
     "data": {
      "text/plain": [
       "<google.oauth2.credentials.Credentials at 0x103c9f160>"
      ]
     },
     "execution_count": 8,
     "metadata": {},
     "output_type": "execute_result"
    }
   ],
   "source": [
    "creds"
   ]
  },
  {
   "cell_type": "code",
   "execution_count": 9,
   "id": "60a30e68-4310-4916-9897-259a62d8d2b5",
   "metadata": {},
   "outputs": [],
   "source": [
    "service = build(\"gmail\", \"v1\", credentials=creds)"
   ]
  },
  {
   "cell_type": "code",
   "execution_count": 35,
   "id": "41942b51-f614-4d09-9609-2201e50ef4c5",
   "metadata": {},
   "outputs": [],
   "source": [
    "message = MIMEText(\"Hello World\")\n",
    "message['to'] = \"2066173488@tmomail.net\"\n",
    "message['from'] = \"APTG\"\n",
    "message['subject'] = \"Test Text\""
   ]
  },
  {
   "cell_type": "code",
   "execution_count": 36,
   "id": "af55a141-43be-4e44-9ecc-cc2c66a04d21",
   "metadata": {},
   "outputs": [],
   "source": [
    "msg_payload = {'raw': base64.urlsafe_b64encode(message.as_bytes()).decode()}"
   ]
  },
  {
   "cell_type": "code",
   "execution_count": 29,
   "id": "1d5e0bf1-b4cd-485d-b164-d72d3368bc90",
   "metadata": {},
   "outputs": [],
   "source": [
    "email = service.users().messages()"
   ]
  },
  {
   "cell_type": "code",
   "execution_count": 37,
   "id": "e0fe50ee-bebf-4db2-86d9-9c917d44abfc",
   "metadata": {},
   "outputs": [],
   "source": [
    "res = email.send(userId=\"me\", body=msg_payload).execute()"
   ]
  },
  {
   "cell_type": "code",
   "execution_count": 38,
   "id": "7e35693e-c89c-40fc-9515-5b3de7f74432",
   "metadata": {},
   "outputs": [
    {
     "data": {
      "text/plain": [
       "{'id': '17e1938f8549c412',\n",
       " 'threadId': '17e1938f8549c412',\n",
       " 'labelIds': ['SENT']}"
      ]
     },
     "execution_count": 38,
     "metadata": {},
     "output_type": "execute_result"
    }
   ],
   "source": [
    "res"
   ]
  },
  {
   "cell_type": "code",
   "execution_count": null,
   "id": "7a200ba3-32b9-442d-bd92-470305224d8e",
   "metadata": {},
   "outputs": [],
   "source": []
  }
 ],
 "metadata": {
  "kernelspec": {
   "display_name": "Python 3 (ipykernel)",
   "language": "python",
   "name": "python3"
  },
  "language_info": {
   "codemirror_mode": {
    "name": "ipython",
    "version": 3
   },
   "file_extension": ".py",
   "mimetype": "text/x-python",
   "name": "python",
   "nbconvert_exporter": "python",
   "pygments_lexer": "ipython3",
   "version": "3.9.9"
  }
 },
 "nbformat": 4,
 "nbformat_minor": 5
}
